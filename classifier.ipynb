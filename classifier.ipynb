{
 "cells": [
  {
   "cell_type": "code",
   "execution_count": 1,
   "metadata": {},
   "outputs": [],
   "source": [
    "import math\n",
    "import pandas as pd\n",
    "import re\n",
    "from functools import reduce"
   ]
  },
  {
   "cell_type": "code",
   "execution_count": 2,
   "metadata": {},
   "outputs": [],
   "source": [
    "def calculate_corpus(general_glossary, glossary):\n",
    "    v = [0] * len(general_glossary)\n",
    "    for word in glossary['Termino']:\n",
    "        v[general_glossary[word]] = 1\n",
    "    return v\n",
    "\n",
    "def calculate_corpus_new(general_glossary, new):\n",
    "    v = [0] * len(general_glossary)\n",
    "    for word in new:\n",
    "        try:\n",
    "            v[general_glossary[word]] += 1\n",
    "        except:\n",
    "            pass\n",
    "    return v\n",
    "        \n",
    "def cos_distance(v1, v2):\n",
    "    n = sum(map(lambda t: t[0]*t[1], zip(v1, v2)))\n",
    "    dist_v1 = math.sqrt(sum(map(lambda x: x*x, v1)))\n",
    "    dist_v2 = math.sqrt(sum(map(lambda x: x*x, v2)))\n",
    "    d = dist_v1 * dist_v2\n",
    "    return n/d if d != 0 else -1\n",
    "    \n",
    "def read_csv(path, sep):\n",
    "    csv = pd.read_csv(path, sep=sep)\n",
    "    return csv\n",
    "\n",
    "def read_file(path):\n",
    "    return ''.join(str(e) for e in open(path, 'r', encoding='utf-8').readlines())"
   ]
  },
  {
   "cell_type": "code",
   "execution_count": 3,
   "metadata": {},
   "outputs": [
    {
     "name": "stdout",
     "output_type": "stream",
     "text": [
      "[0, 0, 1, 0, 0, 7, 0, 0, 0, 1, 1, 0, 3, 0, 0, 0, 0, 2, 0, 0, 0, 0, 0, 0, 0, 0, 0, 2, 5, 0, 0, 0, 0, 0, 0, 0, 0, 0, 0, 0, 0, 0, 0, 0, 0, 0, 0, 0, 1, 0, 0, 1, 0, 0, 0, 0, 0, 0, 0, 0, 0, 8, 0, 1, 1, 0, 0, 0, 0, 0, 0, 1, 0, 0, 0, 0, 0, 0, 0, 1, 2, 0, 0, 0, 0, 1, 0, 0, 0, 1, 1, 0, 0, 0, 1, 0, 0, 0, 0, 0, 0, 0, 0, 1, 0, 0, 0, 1, 0, 0, 1, 0, 0, 0, 0, 0, 2, 0, 0, 0, 0, 0, 0, 0, 0, 0, 0, 0, 0, 0, 0, 0, 1, 0, 0, 0, 0, 0, 0, 0, 1, 2, 0, 1, 2, 0, 0, 0, 2, 0, 1, 0, 6, 1, 0, 0, 0, 0, 0, 1, 1, 2, 1, 0, 0, 0, 1, 0, 0, 1, 2, 2, 0, 0, 0, 1, 0, 0, 1, 0, 1]\n",
      "Type:  politics\n",
      "[0, 0, 0, 0, 0, 2, 0, 0, 0, 0, 0, 0, 2, 0, 0, 0, 0, 0, 0, 0, 1, 0, 0, 0, 0, 0, 0, 0, 2, 0, 0, 0, 0, 0, 0, 0, 0, 0, 0, 0, 0, 0, 0, 0, 0, 0, 0, 0, 0, 0, 0, 1, 0, 0, 0, 0, 0, 0, 0, 0, 0, 0, 0, 1, 0, 0, 0, 0, 0, 0, 1, 0, 0, 0, 0, 0, 2, 0, 0, 0, 2, 0, 0, 0, 0, 0, 0, 0, 0, 3, 0, 0, 0, 0, 1, 0, 0, 0, 0, 0, 0, 0, 1, 1, 0, 1, 0, 0, 0, 0, 4, 0, 0, 0, 0, 0, 0, 0, 0, 0, 0, 0, 1, 0, 0, 0, 0, 0, 0, 0, 0, 0, 0, 0, 0, 0, 0, 0, 0, 0, 0, 0, 0, 0, 0, 3, 1, 0, 0, 1, 0, 0, 1, 2, 0, 0, 0, 0, 0, 0, 0, 0, 1, 0, 0, 0, 0, 0, 1, 0, 1, 2, 0, 0, 1, 0, 0, 0, 2, 0, 1]\n",
      "Type:  politics\n",
      "[0, 0, 0, 0, 0, 0, 0, 0, 0, 0, 0, 0, 0, 0, 0, 0, 0, 0, 0, 0, 0, 0, 0, 0, 0, 0, 0, 0, 0, 0, 0, 0, 0, 0, 0, 0, 1, 0, 0, 0, 0, 0, 0, 0, 0, 0, 0, 0, 0, 0, 0, 0, 0, 1, 0, 0, 0, 0, 0, 0, 0, 0, 0, 0, 0, 0, 0, 0, 0, 0, 1, 0, 0, 0, 0, 1, 3, 0, 0, 1, 0, 0, 0, 0, 0, 0, 0, 1, 0, 0, 0, 0, 2, 5, 0, 0, 0, 0, 0, 0, 1, 0, 0, 0, 0, 0, 0, 1, 0, 0, 0, 0, 3, 3, 0, 0, 0, 0, 0, 2, 0, 1, 1, 1, 0, 0, 1, 0, 0, 0, 1, 0, 0, 0, 0, 0, 0, 0, 0, 0, 0, 0, 1, 1, 0, 0, 0, 0, 0, 0, 0, 0, 0, 0, 1, 0, 0, 2, 0, 0, 0, 0, 0, 0, 0, 1, 0, 0, 0, 0, 0, 1, 2, 1, 0, 1, 0, 0, 0, 0, 0]\n",
      "Type:  sports\n",
      "[0, 0, 0, 0, 0, 0, 0, 0, 0, 0, 0, 0, 0, 0, 0, 0, 0, 0, 0, 0, 0, 0, 0, 0, 0, 0, 0, 0, 0, 0, 0, 0, 0, 0, 0, 0, 6, 0, 0, 0, 0, 0, 0, 0, 0, 0, 0, 0, 0, 0, 0, 0, 0, 1, 0, 0, 0, 0, 0, 0, 1, 2, 0, 0, 0, 0, 0, 0, 0, 0, 0, 0, 0, 0, 0, 0, 0, 0, 0, 0, 0, 0, 0, 0, 0, 0, 0, 1, 0, 0, 0, 0, 0, 5, 0, 0, 0, 0, 0, 0, 2, 0, 1, 0, 0, 0, 1, 0, 0, 0, 0, 0, 0, 0, 0, 0, 1, 0, 0, 0, 1, 0, 0, 0, 0, 0, 0, 0, 0, 0, 0, 0, 0, 0, 0, 0, 0, 0, 0, 0, 0, 1, 2, 0, 0, 0, 0, 0, 0, 0, 0, 0, 0, 2, 0, 1, 0, 0, 0, 0, 0, 0, 1, 0, 0, 0, 0, 0, 0, 1, 1, 1, 0, 0, 0, 1, 0, 0, 0, 0, 0]\n",
      "Type:  sports\n",
      "[1, 0, 0, 0, 0, 0, 0, 0, 0, 0, 0, 0, 0, 0, 0, 0, 0, 0, 0, 0, 0, 0, 0, 0, 0, 0, 0, 0, 0, 0, 0, 0, 0, 0, 0, 0, 0, 0, 0, 0, 0, 0, 0, 0, 0, 0, 0, 0, 0, 0, 0, 0, 0, 0, 0, 0, 0, 0, 0, 0, 0, 0, 0, 0, 0, 0, 0, 0, 0, 0, 1, 0, 0, 0, 0, 0, 1, 0, 0, 0, 0, 0, 2, 0, 0, 0, 1, 0, 0, 1, 0, 0, 0, 2, 0, 0, 0, 0, 0, 0, 2, 2, 0, 0, 0, 0, 0, 0, 0, 0, 0, 0, 0, 0, 0, 0, 0, 0, 0, 0, 0, 0, 0, 0, 0, 0, 0, 0, 0, 0, 0, 0, 0, 0, 0, 1, 0, 0, 0, 0, 0, 0, 0, 0, 0, 0, 0, 0, 0, 0, 0, 0, 0, 1, 0, 1, 0, 0, 1, 0, 0, 0, 0, 0, 0, 0, 1, 0, 0, 0, 2, 0, 1, 0, 0, 0, 0, 0, 0, 0, 0]\n",
      "Type:  science\n",
      "[0, 0, 0, 0, 0, 0, 1, 0, 0, 0, 0, 0, 0, 0, 0, 0, 0, 0, 0, 0, 0, 0, 0, 0, 0, 0, 0, 0, 0, 0, 0, 0, 0, 0, 0, 0, 0, 0, 0, 0, 0, 0, 0, 0, 0, 0, 0, 0, 0, 0, 0, 0, 0, 0, 0, 0, 0, 0, 0, 0, 0, 0, 0, 0, 0, 0, 0, 0, 0, 0, 0, 0, 0, 0, 0, 0, 0, 0, 0, 0, 0, 0, 1, 0, 0, 0, 0, 0, 0, 0, 0, 0, 0, 1, 0, 1, 1, 0, 0, 0, 0, 0, 1, 0, 0, 2, 0, 0, 0, 0, 0, 0, 0, 0, 0, 0, 0, 2, 5, 0, 1, 0, 1, 0, 0, 0, 0, 0, 0, 1, 0, 0, 0, 0, 0, 3, 0, 1, 0, 0, 0, 0, 0, 0, 0, 0, 0, 0, 0, 0, 0, 0, 0, 0, 0, 0, 2, 0, 0, 0, 0, 0, 4, 0, 0, 0, 2, 0, 1, 0, 0, 3, 0, 2, 0, 0, 0, 0, 0, 0, 0]\n",
      "Type:  science\n"
     ]
    },
    {
     "data": {
      "text/plain": [
       "{'politics': 2, 'sports': 2, 'science': 2}"
      ]
     },
     "execution_count": 3,
     "metadata": {},
     "output_type": "execute_result"
    }
   ],
   "source": [
    "# We use the news in ./texts for creating the glossaries that allows to classify the texts properly. We create the glossaries by using SimpleExtractor, by DAIL Software, UPM.\n",
    "\n",
    "# Glossaries reading.\n",
    "politics_glossary = read_csv('./extractions/politics.csv', ';')\n",
    "sports_glossary = read_csv('./extractions/sports.csv', ';')\n",
    "science_glossary = read_csv('./extractions/science.csv', ';')\n",
    "\n",
    "# We create a list which contains the words of the glossaries.\n",
    "common_glossary = set(list(politics_glossary['Termino']) + list(sports_glossary['Termino']) + list(science_glossary['Termino']))\n",
    "only_words =  dict(map(reversed, enumerate(sorted(common_glossary))))\n",
    "\n",
    "# Creation of corpus of each glossary.\n",
    "politics_corpus = calculate_corpus(only_words, politics_glossary)\n",
    "sports_corpus = calculate_corpus(only_words, sports_glossary)\n",
    "science_corpus = calculate_corpus(only_words, science_glossary)\n",
    "\n",
    "# We prepare a set of news to classify. They are in ./predict.\n",
    "news = [read_file('./predict/politics-01.txt'), read_file('./predict/politics-02.txt'),\n",
    "            read_file('./predict/sports-01.txt'), read_file('./predict/sports-02.txt'),\n",
    "            read_file('./predict/science-01.txt'), read_file('./predict/science-02.txt')]\n",
    "\n",
    "# Classification process.\n",
    "news_classification = dict(\n",
    "    map(lambda nombre: (nombre, 0), ('politics', 'sports', 'science'))\n",
    ")\n",
    "\n",
    "pattern = re.compile(r'\\w+')\n",
    "for new in news:\n",
    "    new_words = pattern.findall(new)\n",
    "    new_corpus = calculate_corpus_new(only_words, new_words)\n",
    "    print(new_corpus)\n",
    "\n",
    "    cos_politics = cos_distance(politics_corpus, new_corpus)\n",
    "    cos_sports = cos_distance(sports_corpus, new_corpus)\n",
    "    cos_science = cos_distance(science_corpus, new_corpus)\n",
    "    \n",
    "    if cos_politics > cos_sports:\n",
    "        if cos_politics > cos_science:\n",
    "            new_type = 'politics'\n",
    "        else:\n",
    "            new_type = 'science'\n",
    "    else:\n",
    "        if cos_sports > cos_science:\n",
    "            new_type = 'sports'\n",
    "        else:\n",
    "            new_type = 'science'\n",
    "            \n",
    "    news_classification[new_type] += 1\n",
    "    print('Type: ', new_type)\n",
    "    \n",
    "news_classification"
   ]
  }
 ],
 "metadata": {
  "kernelspec": {
   "display_name": "Python 3",
   "language": "python",
   "name": "python3"
  },
  "language_info": {
   "codemirror_mode": {
    "name": "ipython",
    "version": 3
   },
   "file_extension": ".py",
   "mimetype": "text/x-python",
   "name": "python",
   "nbconvert_exporter": "python",
   "pygments_lexer": "ipython3",
   "version": "3.6.5"
  }
 },
 "nbformat": 4,
 "nbformat_minor": 2
}
