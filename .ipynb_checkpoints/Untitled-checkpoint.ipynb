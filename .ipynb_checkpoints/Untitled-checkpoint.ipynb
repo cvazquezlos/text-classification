{
 "cells": [
  {
   "cell_type": "code",
   "execution_count": 11,
   "metadata": {},
   "outputs": [],
   "source": [
    "import pandas as pd"
   ]
  },
  {
   "cell_type": "code",
   "execution_count": 12,
   "metadata": {},
   "outputs": [],
   "source": [
    "def read_csv(path, sep):\n",
    "    csv = pd.read_csv(path, sep=sep)\n",
    "    return csv"
   ]
  },
  {
   "cell_type": "code",
   "execution_count": 15,
   "metadata": {},
   "outputs": [],
   "source": [
    "# We use the news in ./texts for creating the glossaries that allows to classify the texts properly. We create the glossaries by using SimpleExtractor, by DAIL Software, UPM.\n",
    "\n",
    "# Glossaries reading.\n",
    "politics_glossary = read_csv(\"./extractions/politics.csv\", \";\")\n",
    "sports_glossary = read_csv(\"./extractions/sports.csv\", \";\")\n",
    "science_glossary = read_csv(\"./extractions/science.csv\", \";\")\n",
    "\n",
    "# We prepare a set of news to classify. They are in ./predict\n"
   ]
  },
  {
   "cell_type": "code",
   "execution_count": null,
   "metadata": {},
   "outputs": [],
   "source": []
  }
 ],
 "metadata": {
  "kernelspec": {
   "display_name": "Python 3",
   "language": "python",
   "name": "python3"
  },
  "language_info": {
   "codemirror_mode": {
    "name": "ipython",
    "version": 3
   },
   "file_extension": ".py",
   "mimetype": "text/x-python",
   "name": "python",
   "nbconvert_exporter": "python",
   "pygments_lexer": "ipython3",
   "version": "3.6.5"
  }
 },
 "nbformat": 4,
 "nbformat_minor": 2
}
